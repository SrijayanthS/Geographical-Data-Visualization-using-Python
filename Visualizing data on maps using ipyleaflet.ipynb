{
 "cells": [
  {
   "cell_type": "code",
   "execution_count": 1,
   "metadata": {},
   "outputs": [
    {
     "name": "stdout",
     "output_type": "stream",
     "text": [
      "Requirement already satisfied: ipyleaflet in /Users/srijayanthsaseendran/anaconda3/lib/python3.7/site-packages (0.12.4)\n",
      "Requirement already satisfied: xarray>=0.10 in /Users/srijayanthsaseendran/anaconda3/lib/python3.7/site-packages (from ipyleaflet) (0.15.1)\n",
      "Requirement already satisfied: traittypes<3,>=0.2.1 in /Users/srijayanthsaseendran/anaconda3/lib/python3.7/site-packages (from ipyleaflet) (0.2.1)\n",
      "Requirement already satisfied: branca<0.4,>=0.3.1 in /Users/srijayanthsaseendran/anaconda3/lib/python3.7/site-packages (from ipyleaflet) (0.3.1)\n",
      "Requirement already satisfied: ipywidgets<8,>=7.5.0 in /Users/srijayanthsaseendran/anaconda3/lib/python3.7/site-packages (from ipyleaflet) (7.5.0)\n",
      "Requirement already satisfied: pandas>=0.25 in /Users/srijayanthsaseendran/anaconda3/lib/python3.7/site-packages (from xarray>=0.10->ipyleaflet) (1.0.3)\n",
      "Requirement already satisfied: numpy>=1.15 in /Users/srijayanthsaseendran/anaconda3/lib/python3.7/site-packages (from xarray>=0.10->ipyleaflet) (1.16.4)\n",
      "Requirement already satisfied: setuptools>=41.2 in /Users/srijayanthsaseendran/anaconda3/lib/python3.7/site-packages (from xarray>=0.10->ipyleaflet) (46.1.3)\n",
      "Requirement already satisfied: traitlets>=4.2.2 in /Users/srijayanthsaseendran/anaconda3/lib/python3.7/site-packages (from traittypes<3,>=0.2.1->ipyleaflet) (4.3.2)\n",
      "Requirement already satisfied: jinja2 in /Users/srijayanthsaseendran/anaconda3/lib/python3.7/site-packages (from branca<0.4,>=0.3.1->ipyleaflet) (2.10.1)\n",
      "Requirement already satisfied: six in /Users/srijayanthsaseendran/anaconda3/lib/python3.7/site-packages (from branca<0.4,>=0.3.1->ipyleaflet) (1.12.0)\n",
      "Requirement already satisfied: ipython>=4.0.0; python_version >= \"3.3\" in /Users/srijayanthsaseendran/anaconda3/lib/python3.7/site-packages (from ipywidgets<8,>=7.5.0->ipyleaflet) (7.6.1)\n",
      "Requirement already satisfied: widgetsnbextension~=3.5.0 in /Users/srijayanthsaseendran/anaconda3/lib/python3.7/site-packages (from ipywidgets<8,>=7.5.0->ipyleaflet) (3.5.0)\n",
      "Requirement already satisfied: ipykernel>=4.5.1 in /Users/srijayanthsaseendran/anaconda3/lib/python3.7/site-packages (from ipywidgets<8,>=7.5.0->ipyleaflet) (5.1.1)\n",
      "Requirement already satisfied: nbformat>=4.2.0 in /Users/srijayanthsaseendran/anaconda3/lib/python3.7/site-packages (from ipywidgets<8,>=7.5.0->ipyleaflet) (4.4.0)\n",
      "Requirement already satisfied: python-dateutil>=2.6.1 in /Users/srijayanthsaseendran/anaconda3/lib/python3.7/site-packages (from pandas>=0.25->xarray>=0.10->ipyleaflet) (2.8.0)\n",
      "Requirement already satisfied: pytz>=2017.2 in /Users/srijayanthsaseendran/anaconda3/lib/python3.7/site-packages (from pandas>=0.25->xarray>=0.10->ipyleaflet) (2019.1)\n",
      "Requirement already satisfied: ipython-genutils in /Users/srijayanthsaseendran/anaconda3/lib/python3.7/site-packages (from traitlets>=4.2.2->traittypes<3,>=0.2.1->ipyleaflet) (0.2.0)\n",
      "Requirement already satisfied: decorator in /Users/srijayanthsaseendran/anaconda3/lib/python3.7/site-packages (from traitlets>=4.2.2->traittypes<3,>=0.2.1->ipyleaflet) (4.4.0)\n",
      "Requirement already satisfied: MarkupSafe>=0.23 in /Users/srijayanthsaseendran/anaconda3/lib/python3.7/site-packages (from jinja2->branca<0.4,>=0.3.1->ipyleaflet) (1.1.1)\n",
      "Requirement already satisfied: jedi>=0.10 in /Users/srijayanthsaseendran/anaconda3/lib/python3.7/site-packages (from ipython>=4.0.0; python_version >= \"3.3\"->ipywidgets<8,>=7.5.0->ipyleaflet) (0.13.3)\n",
      "Requirement already satisfied: prompt-toolkit<2.1.0,>=2.0.0 in /Users/srijayanthsaseendran/anaconda3/lib/python3.7/site-packages (from ipython>=4.0.0; python_version >= \"3.3\"->ipywidgets<8,>=7.5.0->ipyleaflet) (2.0.9)\n",
      "Requirement already satisfied: backcall in /Users/srijayanthsaseendran/anaconda3/lib/python3.7/site-packages (from ipython>=4.0.0; python_version >= \"3.3\"->ipywidgets<8,>=7.5.0->ipyleaflet) (0.1.0)\n",
      "Requirement already satisfied: pickleshare in /Users/srijayanthsaseendran/anaconda3/lib/python3.7/site-packages (from ipython>=4.0.0; python_version >= \"3.3\"->ipywidgets<8,>=7.5.0->ipyleaflet) (0.7.5)\n",
      "Requirement already satisfied: pygments in /Users/srijayanthsaseendran/anaconda3/lib/python3.7/site-packages (from ipython>=4.0.0; python_version >= \"3.3\"->ipywidgets<8,>=7.5.0->ipyleaflet) (2.4.2)\n",
      "Requirement already satisfied: appnope; sys_platform == \"darwin\" in /Users/srijayanthsaseendran/anaconda3/lib/python3.7/site-packages (from ipython>=4.0.0; python_version >= \"3.3\"->ipywidgets<8,>=7.5.0->ipyleaflet) (0.1.0)\n",
      "Requirement already satisfied: pexpect; sys_platform != \"win32\" in /Users/srijayanthsaseendran/anaconda3/lib/python3.7/site-packages (from ipython>=4.0.0; python_version >= \"3.3\"->ipywidgets<8,>=7.5.0->ipyleaflet) (4.7.0)\n",
      "Requirement already satisfied: notebook>=4.4.1 in /Users/srijayanthsaseendran/anaconda3/lib/python3.7/site-packages (from widgetsnbextension~=3.5.0->ipywidgets<8,>=7.5.0->ipyleaflet) (6.0.0)\n",
      "Requirement already satisfied: tornado>=4.2 in /Users/srijayanthsaseendran/anaconda3/lib/python3.7/site-packages (from ipykernel>=4.5.1->ipywidgets<8,>=7.5.0->ipyleaflet) (6.0.3)\n",
      "Requirement already satisfied: jupyter-client in /Users/srijayanthsaseendran/anaconda3/lib/python3.7/site-packages (from ipykernel>=4.5.1->ipywidgets<8,>=7.5.0->ipyleaflet) (5.3.1)\n",
      "Requirement already satisfied: jsonschema!=2.5.0,>=2.4 in /Users/srijayanthsaseendran/anaconda3/lib/python3.7/site-packages (from nbformat>=4.2.0->ipywidgets<8,>=7.5.0->ipyleaflet) (3.0.1)\n",
      "Requirement already satisfied: jupyter-core in /Users/srijayanthsaseendran/anaconda3/lib/python3.7/site-packages (from nbformat>=4.2.0->ipywidgets<8,>=7.5.0->ipyleaflet) (4.5.0)\n",
      "Requirement already satisfied: parso>=0.3.0 in /Users/srijayanthsaseendran/anaconda3/lib/python3.7/site-packages (from jedi>=0.10->ipython>=4.0.0; python_version >= \"3.3\"->ipywidgets<8,>=7.5.0->ipyleaflet) (0.5.0)\n",
      "Requirement already satisfied: wcwidth in /Users/srijayanthsaseendran/anaconda3/lib/python3.7/site-packages (from prompt-toolkit<2.1.0,>=2.0.0->ipython>=4.0.0; python_version >= \"3.3\"->ipywidgets<8,>=7.5.0->ipyleaflet) (0.1.7)\n",
      "Requirement already satisfied: ptyprocess>=0.5 in /Users/srijayanthsaseendran/anaconda3/lib/python3.7/site-packages (from pexpect; sys_platform != \"win32\"->ipython>=4.0.0; python_version >= \"3.3\"->ipywidgets<8,>=7.5.0->ipyleaflet) (0.6.0)\n",
      "Requirement already satisfied: terminado>=0.8.1 in /Users/srijayanthsaseendran/anaconda3/lib/python3.7/site-packages (from notebook>=4.4.1->widgetsnbextension~=3.5.0->ipywidgets<8,>=7.5.0->ipyleaflet) (0.8.2)\n",
      "Requirement already satisfied: Send2Trash in /Users/srijayanthsaseendran/anaconda3/lib/python3.7/site-packages (from notebook>=4.4.1->widgetsnbextension~=3.5.0->ipywidgets<8,>=7.5.0->ipyleaflet) (1.5.0)\n",
      "Requirement already satisfied: nbconvert in /Users/srijayanthsaseendran/anaconda3/lib/python3.7/site-packages (from notebook>=4.4.1->widgetsnbextension~=3.5.0->ipywidgets<8,>=7.5.0->ipyleaflet) (5.5.0)\n",
      "Requirement already satisfied: pyzmq>=17 in /Users/srijayanthsaseendran/anaconda3/lib/python3.7/site-packages (from notebook>=4.4.1->widgetsnbextension~=3.5.0->ipywidgets<8,>=7.5.0->ipyleaflet) (18.0.0)\n",
      "Requirement already satisfied: prometheus-client in /Users/srijayanthsaseendran/anaconda3/lib/python3.7/site-packages (from notebook>=4.4.1->widgetsnbextension~=3.5.0->ipywidgets<8,>=7.5.0->ipyleaflet) (0.7.1)\n",
      "Requirement already satisfied: attrs>=17.4.0 in /Users/srijayanthsaseendran/anaconda3/lib/python3.7/site-packages (from jsonschema!=2.5.0,>=2.4->nbformat>=4.2.0->ipywidgets<8,>=7.5.0->ipyleaflet) (19.1.0)\n",
      "Requirement already satisfied: pyrsistent>=0.14.0 in /Users/srijayanthsaseendran/anaconda3/lib/python3.7/site-packages (from jsonschema!=2.5.0,>=2.4->nbformat>=4.2.0->ipywidgets<8,>=7.5.0->ipyleaflet) (0.14.11)\n",
      "Requirement already satisfied: bleach in /Users/srijayanthsaseendran/anaconda3/lib/python3.7/site-packages (from nbconvert->notebook>=4.4.1->widgetsnbextension~=3.5.0->ipywidgets<8,>=7.5.0->ipyleaflet) (3.1.0)\n",
      "Requirement already satisfied: defusedxml in /Users/srijayanthsaseendran/anaconda3/lib/python3.7/site-packages (from nbconvert->notebook>=4.4.1->widgetsnbextension~=3.5.0->ipywidgets<8,>=7.5.0->ipyleaflet) (0.6.0)\n",
      "Requirement already satisfied: testpath in /Users/srijayanthsaseendran/anaconda3/lib/python3.7/site-packages (from nbconvert->notebook>=4.4.1->widgetsnbextension~=3.5.0->ipywidgets<8,>=7.5.0->ipyleaflet) (0.4.2)\n",
      "Requirement already satisfied: mistune>=0.8.1 in /Users/srijayanthsaseendran/anaconda3/lib/python3.7/site-packages (from nbconvert->notebook>=4.4.1->widgetsnbextension~=3.5.0->ipywidgets<8,>=7.5.0->ipyleaflet) (0.8.4)\n"
     ]
    },
    {
     "name": "stdout",
     "output_type": "stream",
     "text": [
      "Requirement already satisfied: pandocfilters>=1.4.1 in /Users/srijayanthsaseendran/anaconda3/lib/python3.7/site-packages (from nbconvert->notebook>=4.4.1->widgetsnbextension~=3.5.0->ipywidgets<8,>=7.5.0->ipyleaflet) (1.4.2)\n",
      "Requirement already satisfied: entrypoints>=0.2.2 in /Users/srijayanthsaseendran/anaconda3/lib/python3.7/site-packages (from nbconvert->notebook>=4.4.1->widgetsnbextension~=3.5.0->ipywidgets<8,>=7.5.0->ipyleaflet) (0.3)\n",
      "Requirement already satisfied: webencodings in /Users/srijayanthsaseendran/anaconda3/lib/python3.7/site-packages (from bleach->nbconvert->notebook>=4.4.1->widgetsnbextension~=3.5.0->ipywidgets<8,>=7.5.0->ipyleaflet) (0.5.1)\n",
      "Enabling notebook extension jupyter-leaflet/extension...\n",
      "      - Validating: \u001b[32mOK\u001b[0m\n"
     ]
    }
   ],
   "source": [
    "!pip install ipyleaflet\n",
    "!jupyter nbextension enable --py --sys-prefix ipyleaflet"
   ]
  },
  {
   "cell_type": "code",
   "execution_count": 2,
   "metadata": {},
   "outputs": [],
   "source": [
    "from ipyleaflet import Map "
   ]
  },
  {
   "cell_type": "code",
   "execution_count": 3,
   "metadata": {},
   "outputs": [
    {
     "data": {
      "application/vnd.jupyter.widget-view+json": {
       "model_id": "26e07633db48471f819483e37794080c",
       "version_major": 2,
       "version_minor": 0
      },
      "text/plain": [
       "Map(center=[32.7766, -96.7969], controls=(ZoomControl(options=['position', 'zoom_in_text', 'zoom_in_title', 'z…"
      ]
     },
     "metadata": {},
     "output_type": "display_data"
    }
   ],
   "source": [
    "Map(center=[32.7766, -96.7969], zoom=15)"
   ]
  },
  {
   "cell_type": "code",
   "execution_count": 4,
   "metadata": {},
   "outputs": [
    {
     "data": {
      "application/vnd.jupyter.widget-view+json": {
       "model_id": "4f920a8d8947434f916f1bf7478f4c90",
       "version_major": 2,
       "version_minor": 0
      },
      "text/plain": [
       "Map(center=[32.7766, -96.7969], controls=(ZoomControl(options=['position', 'zoom_in_text', 'zoom_in_title', 'z…"
      ]
     },
     "metadata": {},
     "output_type": "display_data"
    }
   ],
   "source": [
    "from ipyleaflet import (Map,DrawControl) \n",
    "myviz=Map(center=[32.7766, -96.7969], zoom=15)\n",
    "bm=DrawControl(circle={'shapeOptions':{'color':'#0000FF'}})\n",
    "myviz.add_control(bm)\n",
    "myviz"
   ]
  },
  {
   "cell_type": "code",
   "execution_count": 5,
   "metadata": {},
   "outputs": [
    {
     "data": {
      "application/vnd.jupyter.widget-view+json": {
       "model_id": "ad25fa11dd8e49ac94efa8b4c15493dc",
       "version_major": 2,
       "version_minor": 0
      },
      "text/plain": [
       "Map(center=[32.7766, -96.7969], controls=(ZoomControl(options=['position', 'zoom_in_text', 'zoom_in_title', 'z…"
      ]
     },
     "metadata": {},
     "output_type": "display_data"
    }
   ],
   "source": [
    "from ipyleaflet import (Map,DrawControl) \n",
    "myviz=Map(center=[32.7766, -96.7969], zoom=15)\n",
    "bm=DrawControl(circle={'shapeOptions':{'color':'#0000FF'}},rectangle={'shapeOptions':{'color':'#0000FF'}})\n",
    "myviz.add_control(bm)\n",
    "myviz"
   ]
  },
  {
   "cell_type": "code",
   "execution_count": null,
   "metadata": {},
   "outputs": [],
   "source": []
  }
 ],
 "metadata": {
  "kernelspec": {
   "display_name": "Python 3",
   "language": "python",
   "name": "python3"
  },
  "language_info": {
   "codemirror_mode": {
    "name": "ipython",
    "version": 3
   },
   "file_extension": ".py",
   "mimetype": "text/x-python",
   "name": "python",
   "nbconvert_exporter": "python",
   "pygments_lexer": "ipython3",
   "version": "3.7.3"
  }
 },
 "nbformat": 4,
 "nbformat_minor": 2
}
